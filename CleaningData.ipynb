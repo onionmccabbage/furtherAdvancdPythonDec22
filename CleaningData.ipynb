{
 "cells": [
  {
   "cell_type": "markdown",
   "id": "41d331b3",
   "metadata": {},
   "source": [
    "## we can deal with data values that are incomplete"
   ]
  },
  {
   "cell_type": "code",
   "execution_count": 8,
   "id": "b8630f27",
   "metadata": {},
   "outputs": [
    {
     "data": {
      "text/plain": [
       "0     True\n",
       "1     True\n",
       "2    False\n",
       "3     True\n",
       "dtype: bool"
      ]
     },
     "execution_count": 8,
     "metadata": {},
     "output_type": "execute_result"
    }
   ],
   "source": [
    "d = ['A', 'B', np.nan, 'D']\n",
    "y = pd.Series(d)\n",
    "y.isnull() # spot the null value\n",
    "y.notnull()"
   ]
  },
  {
   "cell_type": "code",
   "execution_count": 15,
   "id": "7c440f8e",
   "metadata": {},
   "outputs": [
    {
     "data": {
      "text/plain": [
       "0    A\n",
       "1    B\n",
       "2    Z\n",
       "3    D\n",
       "dtype: object"
      ]
     },
     "execution_count": 15,
     "metadata": {},
     "output_type": "execute_result"
    }
   ],
   "source": [
    "# there are ways to deal with NaN values\n",
    "y.fillna('Z') # , inplace=True)"
   ]
  },
  {
   "cell_type": "code",
   "execution_count": 21,
   "id": "31d142e9",
   "metadata": {},
   "outputs": [
    {
     "data": {
      "text/plain": [
       "0    A\n",
       "1    B\n",
       "3    D\n",
       "dtype: object"
      ]
     },
     "execution_count": 21,
     "metadata": {},
     "output_type": "execute_result"
    }
   ],
   "source": [
    "# put a NaN value back in\n",
    "y[2] = np.nan\n",
    "y\n",
    "z = y.dropna() # any row containing NaN will be dropped from the df\n",
    "z"
   ]
  },
  {
   "cell_type": "markdown",
   "id": "bfdb5766",
   "metadata": {},
   "source": [
    "### Strategies for dealing with missing data"
   ]
  },
  {
   "cell_type": "code",
   "execution_count": 24,
   "id": "050e297d",
   "metadata": {},
   "outputs": [
    {
     "data": {
      "text/html": [
       "<div>\n",
       "<style scoped>\n",
       "    .dataframe tbody tr th:only-of-type {\n",
       "        vertical-align: middle;\n",
       "    }\n",
       "\n",
       "    .dataframe tbody tr th {\n",
       "        vertical-align: top;\n",
       "    }\n",
       "\n",
       "    .dataframe thead th {\n",
       "        text-align: right;\n",
       "    }\n",
       "</style>\n",
       "<table border=\"1\" class=\"dataframe\">\n",
       "  <thead>\n",
       "    <tr style=\"text-align: right;\">\n",
       "      <th></th>\n",
       "      <th>0</th>\n",
       "      <th>1</th>\n",
       "      <th>2</th>\n",
       "    </tr>\n",
       "  </thead>\n",
       "  <tbody>\n",
       "    <tr>\n",
       "      <th>0</th>\n",
       "      <td>0.387291</td>\n",
       "      <td>1.212205</td>\n",
       "      <td>-0.985311</td>\n",
       "    </tr>\n",
       "    <tr>\n",
       "      <th>1</th>\n",
       "      <td>0.710327</td>\n",
       "      <td>0.212245</td>\n",
       "      <td>-1.496423</td>\n",
       "    </tr>\n",
       "    <tr>\n",
       "      <th>2</th>\n",
       "      <td>-1.347500</td>\n",
       "      <td>0.405347</td>\n",
       "      <td>0.823658</td>\n",
       "    </tr>\n",
       "    <tr>\n",
       "      <th>3</th>\n",
       "      <td>-2.588114</td>\n",
       "      <td>1.426408</td>\n",
       "      <td>0.057494</td>\n",
       "    </tr>\n",
       "    <tr>\n",
       "      <th>4</th>\n",
       "      <td>0.132214</td>\n",
       "      <td>0.790627</td>\n",
       "      <td>-0.922519</td>\n",
       "    </tr>\n",
       "    <tr>\n",
       "      <th>5</th>\n",
       "      <td>0.680132</td>\n",
       "      <td>-0.096506</td>\n",
       "      <td>0.056333</td>\n",
       "    </tr>\n",
       "    <tr>\n",
       "      <th>6</th>\n",
       "      <td>0.189512</td>\n",
       "      <td>-0.771980</td>\n",
       "      <td>-0.074373</td>\n",
       "    </tr>\n",
       "    <tr>\n",
       "      <th>7</th>\n",
       "      <td>-0.747060</td>\n",
       "      <td>0.673265</td>\n",
       "      <td>2.085774</td>\n",
       "    </tr>\n",
       "    <tr>\n",
       "      <th>8</th>\n",
       "      <td>0.822100</td>\n",
       "      <td>-0.730361</td>\n",
       "      <td>1.154560</td>\n",
       "    </tr>\n",
       "    <tr>\n",
       "      <th>9</th>\n",
       "      <td>-0.065887</td>\n",
       "      <td>0.368034</td>\n",
       "      <td>-0.156443</td>\n",
       "    </tr>\n",
       "  </tbody>\n",
       "</table>\n",
       "</div>"
      ],
      "text/plain": [
       "          0         1         2\n",
       "0  0.387291  1.212205 -0.985311\n",
       "1  0.710327  0.212245 -1.496423\n",
       "2 -1.347500  0.405347  0.823658\n",
       "3 -2.588114  1.426408  0.057494\n",
       "4  0.132214  0.790627 -0.922519\n",
       "5  0.680132 -0.096506  0.056333\n",
       "6  0.189512 -0.771980 -0.074373\n",
       "7 -0.747060  0.673265  2.085774\n",
       "8  0.822100 -0.730361  1.154560\n",
       "9 -0.065887  0.368034 -0.156443"
      ]
     },
     "execution_count": 24,
     "metadata": {},
     "output_type": "execute_result"
    }
   ],
   "source": [
    "df = pd.DataFrame(np.random.randn(10, 3))\n",
    "df"
   ]
  },
  {
   "cell_type": "code",
   "execution_count": 28,
   "id": "d76b0af5",
   "metadata": {},
   "outputs": [
    {
     "data": {
      "text/html": [
       "<div>\n",
       "<style scoped>\n",
       "    .dataframe tbody tr th:only-of-type {\n",
       "        vertical-align: middle;\n",
       "    }\n",
       "\n",
       "    .dataframe tbody tr th {\n",
       "        vertical-align: top;\n",
       "    }\n",
       "\n",
       "    .dataframe thead th {\n",
       "        text-align: right;\n",
       "    }\n",
       "</style>\n",
       "<table border=\"1\" class=\"dataframe\">\n",
       "  <thead>\n",
       "    <tr style=\"text-align: right;\">\n",
       "      <th></th>\n",
       "      <th>0</th>\n",
       "      <th>1</th>\n",
       "      <th>2</th>\n",
       "    </tr>\n",
       "  </thead>\n",
       "  <tbody>\n",
       "    <tr>\n",
       "      <th>0</th>\n",
       "      <td>0.387291</td>\n",
       "      <td>NaN</td>\n",
       "      <td>NaN</td>\n",
       "    </tr>\n",
       "    <tr>\n",
       "      <th>1</th>\n",
       "      <td>0.710327</td>\n",
       "      <td>NaN</td>\n",
       "      <td>NaN</td>\n",
       "    </tr>\n",
       "    <tr>\n",
       "      <th>2</th>\n",
       "      <td>-1.347500</td>\n",
       "      <td>NaN</td>\n",
       "      <td>0.823658</td>\n",
       "    </tr>\n",
       "    <tr>\n",
       "      <th>3</th>\n",
       "      <td>-2.588114</td>\n",
       "      <td>NaN</td>\n",
       "      <td>0.057494</td>\n",
       "    </tr>\n",
       "    <tr>\n",
       "      <th>4</th>\n",
       "      <td>0.132214</td>\n",
       "      <td>0.790627</td>\n",
       "      <td>-0.922519</td>\n",
       "    </tr>\n",
       "    <tr>\n",
       "      <th>5</th>\n",
       "      <td>0.680132</td>\n",
       "      <td>-0.096506</td>\n",
       "      <td>0.056333</td>\n",
       "    </tr>\n",
       "    <tr>\n",
       "      <th>6</th>\n",
       "      <td>0.189512</td>\n",
       "      <td>-0.771980</td>\n",
       "      <td>-0.074373</td>\n",
       "    </tr>\n",
       "    <tr>\n",
       "      <th>7</th>\n",
       "      <td>-0.747060</td>\n",
       "      <td>0.673265</td>\n",
       "      <td>2.085774</td>\n",
       "    </tr>\n",
       "    <tr>\n",
       "      <th>8</th>\n",
       "      <td>0.822100</td>\n",
       "      <td>-0.730361</td>\n",
       "      <td>1.154560</td>\n",
       "    </tr>\n",
       "    <tr>\n",
       "      <th>9</th>\n",
       "      <td>-0.065887</td>\n",
       "      <td>0.368034</td>\n",
       "      <td>-0.156443</td>\n",
       "    </tr>\n",
       "  </tbody>\n",
       "</table>\n",
       "</div>"
      ],
      "text/plain": [
       "          0         1         2\n",
       "0  0.387291       NaN       NaN\n",
       "1  0.710327       NaN       NaN\n",
       "2 -1.347500       NaN  0.823658\n",
       "3 -2.588114       NaN  0.057494\n",
       "4  0.132214  0.790627 -0.922519\n",
       "5  0.680132 -0.096506  0.056333\n",
       "6  0.189512 -0.771980 -0.074373\n",
       "7 -0.747060  0.673265  2.085774\n",
       "8  0.822100 -0.730361  1.154560\n",
       "9 -0.065887  0.368034 -0.156443"
      ]
     },
     "execution_count": 28,
     "metadata": {},
     "output_type": "execute_result"
    }
   ],
   "source": [
    "# we can inject some NaN values to work with\n",
    "df.iloc[:4,1] = np.nan # row 0, 1, 2, 3 in column 1\n",
    "df.iloc[:2,2] = np.nan # row 0, 1 in column 2\n",
    "df"
   ]
  },
  {
   "cell_type": "code",
   "execution_count": null,
   "id": "146ae74c",
   "metadata": {},
   "outputs": [],
   "source": []
  },
  {
   "cell_type": "code",
   "execution_count": null,
   "id": "61ecabb8",
   "metadata": {},
   "outputs": [],
   "source": []
  }
 ],
 "metadata": {
  "kernelspec": {
   "display_name": "Python 3 (ipykernel)",
   "language": "python",
   "name": "python3"
  },
  "language_info": {
   "codemirror_mode": {
    "name": "ipython",
    "version": 3
   },
   "file_extension": ".py",
   "mimetype": "text/x-python",
   "name": "python",
   "nbconvert_exporter": "python",
   "pygments_lexer": "ipython3",
   "version": "3.9.12"
  }
 },
 "nbformat": 4,
 "nbformat_minor": 5
}
