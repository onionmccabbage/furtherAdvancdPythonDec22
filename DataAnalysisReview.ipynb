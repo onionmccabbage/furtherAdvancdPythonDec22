{
 "cells": [
  {
   "cell_type": "markdown",
   "id": "c8f0710d",
   "metadata": {},
   "source": [
    "## Review Exercise: data analysis"
   ]
  },
  {
   "cell_type": "markdown",
   "id": "f32a6ef2",
   "metadata": {},
   "source": [
    "Create a data frame from http://rcs.bu.edu/examples/python/data_analysis/flights.csv\n",
    "‐ Show how many elements this data has, the column names and the data types for each column\n",
    "‐ Show the statistical summaries for the numeric columns in the dataset ( df.describe() )"
   ]
  },
  {
   "cell_type": "code",
   "execution_count": null,
   "id": "72bf70d0",
   "metadata": {},
   "outputs": [],
   "source": [
    "import numpy as np\n",
    "import pandas as pd"
   ]
  },
  {
   "cell_type": "code",
   "execution_count": 44,
   "id": "4e786b6e",
   "metadata": {},
   "outputs": [],
   "source": [
    "#we can read in external data\n",
    "df = pd.read_csv('http://rcs.bu.edu/examples/python/data_analysis/flights.csv')"
   ]
  },
  {
   "cell_type": "code",
   "execution_count": null,
   "id": "98ff450d",
   "metadata": {},
   "outputs": [],
   "source": [
    "df.head()"
   ]
  },
  {
   "cell_type": "code",
   "execution_count": null,
   "id": "bbf06c09",
   "metadata": {},
   "outputs": [],
   "source": [
    "df.size\n",
    "df.shape"
   ]
  },
  {
   "cell_type": "code",
   "execution_count": null,
   "id": "e4884e8e",
   "metadata": {},
   "outputs": [],
   "source": [
    "# carry out these mini-challenges until about 2:10\n",
    "# Show how many elements this data has"
   ]
  },
  {
   "cell_type": "code",
   "execution_count": null,
   "id": "aae37b76",
   "metadata": {},
   "outputs": [],
   "source": [
    "# Show the column names \n",
    "df.columns"
   ]
  },
  {
   "cell_type": "code",
   "execution_count": null,
   "id": "976b29da",
   "metadata": {},
   "outputs": [],
   "source": [
    "# Show the data types for each column\n",
    "df.dtypes"
   ]
  },
  {
   "cell_type": "code",
   "execution_count": null,
   "id": "dc70d2c9",
   "metadata": {},
   "outputs": [],
   "source": [
    "# Show the statistical summaries\n",
    "# for the numeric columns in the dataset ( df.describe() )\n",
    "df.describe()\n",
    "df.mean(numeric_only=True)\n",
    "df.max(numeric_only=True)\n",
    "df.min(numeric_only=True)\n",
    "df.count(numeric_only=True)"
   ]
  },
  {
   "cell_type": "markdown",
   "id": "f87814f5",
   "metadata": {},
   "source": [
    "### Further Review\n",
    "Experiment with ways to fix the mising data wiuthin the flights data set"
   ]
  },
  {
   "cell_type": "code",
   "execution_count": null,
   "id": "f3623148",
   "metadata": {},
   "outputs": [],
   "source": [
    "# e.g. use ffill to replace the missing data\n",
    "# try using a fixed value, an mean value or just dropping the data\n",
    "# NB do this in a copy of the original data (so we dont lose the original)"
   ]
  },
  {
   "cell_type": "code",
   "execution_count": null,
   "id": "589f9165",
   "metadata": {},
   "outputs": [],
   "source": [
    "df.tail(50)"
   ]
  },
  {
   "cell_type": "code",
   "execution_count": null,
   "id": "8ffc1da7",
   "metadata": {},
   "outputs": [],
   "source": [
    "# idea - make a df of just 'UA' (which contains NA value)"
   ]
  },
  {
   "cell_type": "markdown",
   "id": "881b77f9",
   "metadata": {},
   "source": [
    "### Grouping and Aggregating Large Data Sets"
   ]
  },
  {
   "cell_type": "code",
   "execution_count": 33,
   "id": "db6acbf2",
   "metadata": {},
   "outputs": [
    {
     "data": {
      "text/html": [
       "<div>\n",
       "<style scoped>\n",
       "    .dataframe tbody tr th:only-of-type {\n",
       "        vertical-align: middle;\n",
       "    }\n",
       "\n",
       "    .dataframe tbody tr th {\n",
       "        vertical-align: top;\n",
       "    }\n",
       "\n",
       "    .dataframe thead th {\n",
       "        text-align: right;\n",
       "    }\n",
       "</style>\n",
       "<table border=\"1\" class=\"dataframe\">\n",
       "  <thead>\n",
       "    <tr style=\"text-align: right;\">\n",
       "      <th></th>\n",
       "      <th>dep_delay</th>\n",
       "    </tr>\n",
       "    <tr>\n",
       "      <th>carrier</th>\n",
       "      <th></th>\n",
       "    </tr>\n",
       "  </thead>\n",
       "  <tbody>\n",
       "    <tr>\n",
       "      <th>AA</th>\n",
       "      <td>8.586016</td>\n",
       "    </tr>\n",
       "    <tr>\n",
       "      <th>AS</th>\n",
       "      <td>5.804775</td>\n",
       "    </tr>\n",
       "    <tr>\n",
       "      <th>DL</th>\n",
       "      <td>9.264505</td>\n",
       "    </tr>\n",
       "    <tr>\n",
       "      <th>UA</th>\n",
       "      <td>12.106073</td>\n",
       "    </tr>\n",
       "    <tr>\n",
       "      <th>US</th>\n",
       "      <td>3.782418</td>\n",
       "    </tr>\n",
       "  </tbody>\n",
       "</table>\n",
       "</div>"
      ],
      "text/plain": [
       "         dep_delay\n",
       "carrier           \n",
       "AA        8.586016\n",
       "AS        5.804775\n",
       "DL        9.264505\n",
       "UA       12.106073\n",
       "US        3.782418"
      ]
     },
     "execution_count": 33,
     "metadata": {},
     "output_type": "execute_result"
    }
   ],
   "source": [
    "# group the data by airline (carrier)\n",
    "df.groupby('carrier')[['dep_delay']].mean() # or count or min etc."
   ]
  },
  {
   "cell_type": "code",
   "execution_count": 46,
   "id": "79f1292c",
   "metadata": {},
   "outputs": [
    {
     "data": {
      "text/html": [
       "<div>\n",
       "<style scoped>\n",
       "    .dataframe tbody tr th:only-of-type {\n",
       "        vertical-align: middle;\n",
       "    }\n",
       "\n",
       "    .dataframe tbody tr th {\n",
       "        vertical-align: top;\n",
       "    }\n",
       "\n",
       "    .dataframe thead th {\n",
       "        text-align: right;\n",
       "    }\n",
       "</style>\n",
       "<table border=\"1\" class=\"dataframe\">\n",
       "  <thead>\n",
       "    <tr style=\"text-align: right;\">\n",
       "      <th></th>\n",
       "      <th>dep_delay</th>\n",
       "    </tr>\n",
       "  </thead>\n",
       "  <tbody>\n",
       "    <tr>\n",
       "      <th>min</th>\n",
       "      <td>-33.000000</td>\n",
       "    </tr>\n",
       "    <tr>\n",
       "      <th>mean</th>\n",
       "      <td>9.463773</td>\n",
       "    </tr>\n",
       "    <tr>\n",
       "      <th>max</th>\n",
       "      <td>1014.000000</td>\n",
       "    </tr>\n",
       "  </tbody>\n",
       "</table>\n",
       "</div>"
      ],
      "text/plain": [
       "        dep_delay\n",
       "min    -33.000000\n",
       "mean     9.463773\n",
       "max   1014.000000"
      ]
     },
     "execution_count": 46,
     "metadata": {},
     "output_type": "execute_result"
    }
   ],
   "source": [
    "# aggregate min, mean, max delays for departure\n",
    "df[['dep_delay']].agg(['min', 'mean', 'max'])\n",
    "# df['dep_delays']min.()"
   ]
  },
  {
   "cell_type": "code",
   "execution_count": 49,
   "id": "376a2cb1",
   "metadata": {},
   "outputs": [
    {
     "data": {
      "text/html": [
       "<div>\n",
       "<style scoped>\n",
       "    .dataframe tbody tr th:only-of-type {\n",
       "        vertical-align: middle;\n",
       "    }\n",
       "\n",
       "    .dataframe tbody tr th {\n",
       "        vertical-align: top;\n",
       "    }\n",
       "\n",
       "    .dataframe thead th {\n",
       "        text-align: right;\n",
       "    }\n",
       "</style>\n",
       "<table border=\"1\" class=\"dataframe\">\n",
       "  <thead>\n",
       "    <tr style=\"text-align: right;\">\n",
       "      <th></th>\n",
       "      <th>dep_delay</th>\n",
       "      <th>arr_delay</th>\n",
       "    </tr>\n",
       "  </thead>\n",
       "  <tbody>\n",
       "    <tr>\n",
       "      <th>min</th>\n",
       "      <td>-33.000000</td>\n",
       "      <td>-75.000000</td>\n",
       "    </tr>\n",
       "    <tr>\n",
       "      <th>mean</th>\n",
       "      <td>9.463773</td>\n",
       "      <td>2.094537</td>\n",
       "    </tr>\n",
       "    <tr>\n",
       "      <th>max</th>\n",
       "      <td>1014.000000</td>\n",
       "      <td>1007.000000</td>\n",
       "    </tr>\n",
       "  </tbody>\n",
       "</table>\n",
       "</div>"
      ],
      "text/plain": [
       "        dep_delay    arr_delay\n",
       "min    -33.000000   -75.000000\n",
       "mean     9.463773     2.094537\n",
       "max   1014.000000  1007.000000"
      ]
     },
     "execution_count": 49,
     "metadata": {},
     "output_type": "execute_result"
    }
   ],
   "source": [
    "df[['dep_delay', 'arr_delay']].agg(['min', 'mean', 'max'])"
   ]
  },
  {
   "cell_type": "code",
   "execution_count": 51,
   "id": "baf57c75",
   "metadata": {},
   "outputs": [
    {
     "data": {
      "text/html": [
       "<div>\n",
       "<style scoped>\n",
       "    .dataframe tbody tr th:only-of-type {\n",
       "        vertical-align: middle;\n",
       "    }\n",
       "\n",
       "    .dataframe tbody tr th {\n",
       "        vertical-align: top;\n",
       "    }\n",
       "\n",
       "    .dataframe thead th {\n",
       "        text-align: right;\n",
       "    }\n",
       "</style>\n",
       "<table border=\"1\" class=\"dataframe\">\n",
       "  <thead>\n",
       "    <tr style=\"text-align: right;\">\n",
       "      <th></th>\n",
       "      <th>carrier</th>\n",
       "    </tr>\n",
       "  </thead>\n",
       "  <tbody>\n",
       "    <tr>\n",
       "      <th>nunique</th>\n",
       "      <td>5</td>\n",
       "    </tr>\n",
       "  </tbody>\n",
       "</table>\n",
       "</div>"
      ],
      "text/plain": [
       "         carrier\n",
       "nunique        5"
      ]
     },
     "execution_count": 51,
     "metadata": {},
     "output_type": "execute_result"
    }
   ],
   "source": [
    "# what if we need to count unique members\n",
    "df.agg({'carrier':['nunique']}) # nunique s the number of unique members"
   ]
  },
  {
   "cell_type": "code",
   "execution_count": 55,
   "id": "2626294a",
   "metadata": {},
   "outputs": [
    {
     "data": {
      "text/plain": [
       "2222"
      ]
     },
     "execution_count": 55,
     "metadata": {},
     "output_type": "execute_result"
    }
   ],
   "source": [
    "# how many unique aircraft...\n",
    "df.agg({'tailnum':['nunique']})\n",
    "# or\n",
    "df.tailnum.nunique()"
   ]
  },
  {
   "cell_type": "code",
   "execution_count": 61,
   "id": "f2f68bca",
   "metadata": {},
   "outputs": [
    {
     "data": {
      "text/html": [
       "<div>\n",
       "<style scoped>\n",
       "    .dataframe tbody tr th:only-of-type {\n",
       "        vertical-align: middle;\n",
       "    }\n",
       "\n",
       "    .dataframe tbody tr th {\n",
       "        vertical-align: top;\n",
       "    }\n",
       "\n",
       "    .dataframe thead th {\n",
       "        text-align: right;\n",
       "    }\n",
       "</style>\n",
       "<table border=\"1\" class=\"dataframe\">\n",
       "  <thead>\n",
       "    <tr style=\"text-align: right;\">\n",
       "      <th></th>\n",
       "      <th>year</th>\n",
       "      <th>month</th>\n",
       "      <th>day</th>\n",
       "      <th>dep_time</th>\n",
       "      <th>dep_delay</th>\n",
       "      <th>arr_time</th>\n",
       "      <th>arr_delay</th>\n",
       "      <th>carrier</th>\n",
       "      <th>tailnum</th>\n",
       "      <th>flight</th>\n",
       "      <th>origin</th>\n",
       "      <th>dest</th>\n",
       "      <th>air_time</th>\n",
       "      <th>distance</th>\n",
       "      <th>hour</th>\n",
       "      <th>minute</th>\n",
       "    </tr>\n",
       "  </thead>\n",
       "  <tbody>\n",
       "    <tr>\n",
       "      <th>156166</th>\n",
       "      <td>2013</td>\n",
       "      <td>9</td>\n",
       "      <td>20</td>\n",
       "      <td>1139.0</td>\n",
       "      <td>1014.0</td>\n",
       "      <td>1457.0</td>\n",
       "      <td>1007.0</td>\n",
       "      <td>AA</td>\n",
       "      <td>N338AA</td>\n",
       "      <td>177</td>\n",
       "      <td>JFK</td>\n",
       "      <td>SFO</td>\n",
       "      <td>354.0</td>\n",
       "      <td>2586</td>\n",
       "      <td>11.0</td>\n",
       "      <td>39.0</td>\n",
       "    </tr>\n",
       "  </tbody>\n",
       "</table>\n",
       "</div>"
      ],
      "text/plain": [
       "        year  month  day  dep_time  dep_delay  arr_time  arr_delay carrier  \\\n",
       "156166  2013      9   20    1139.0     1014.0    1457.0     1007.0      AA   \n",
       "\n",
       "       tailnum  flight origin dest  air_time  distance  hour  minute  \n",
       "156166  N338AA     177    JFK  SFO     354.0      2586  11.0    39.0  "
      ]
     },
     "execution_count": 61,
     "metadata": {},
     "output_type": "execute_result"
    }
   ],
   "source": [
    "# challenge: What was the largest departure delay?\n",
    "longest_dep_delay = df.dep_delay.max()\n",
    "longest_dep_delay\n",
    "# what was the longest arrival delay\n",
    "# we can use [] syntax or we can use dot syntax\n",
    "longest_arr_delay = df.arr_delay.max()\n",
    "longest_Arr_delay = df['arr_delay'].max()\n",
    "longest_arr_delay\n",
    "# show ALL the related data for that row\n",
    "df[ df.arr_delay == longest_arr_delay ]"
   ]
  },
  {
   "cell_type": "markdown",
   "id": "51e2c895",
   "metadata": {},
   "source": [
    "### we can read excel, csv, json, html, xml ..."
   ]
  },
  {
   "cell_type": "code",
   "execution_count": null,
   "id": "37220d04",
   "metadata": {},
   "outputs": [],
   "source": [
    "posts = pd.read_json('https://jsonplaceholder.typicode.com/posts')"
   ]
  },
  {
   "cell_type": "code",
   "execution_count": null,
   "id": "4b77e2b0",
   "metadata": {},
   "outputs": [],
   "source": [
    "posts"
   ]
  }
 ],
 "metadata": {
  "kernelspec": {
   "display_name": "Python 3 (ipykernel)",
   "language": "python",
   "name": "python3"
  },
  "language_info": {
   "codemirror_mode": {
    "name": "ipython",
    "version": 3
   },
   "file_extension": ".py",
   "mimetype": "text/x-python",
   "name": "python",
   "nbconvert_exporter": "python",
   "pygments_lexer": "ipython3",
   "version": "3.9.12"
  }
 },
 "nbformat": 4,
 "nbformat_minor": 5
}
