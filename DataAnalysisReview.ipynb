{
 "cells": [
  {
   "cell_type": "markdown",
   "id": "4f73833b",
   "metadata": {},
   "source": [
    "## Review Exercise: data analysis"
   ]
  },
  {
   "cell_type": "markdown",
   "id": "71a2bbe1",
   "metadata": {},
   "source": [
    "Create a data frame from http://rcs.bu.edu/examples/python/data_analysis/flights.csv\n",
    "‐ Show how many elements this data has, the column names and the data types for each column\n",
    "‐ Show the statistical summaries for the numeric columns in the dataset ( df.describe() )"
   ]
  },
  {
   "cell_type": "code",
   "execution_count": 1,
   "id": "467351e2",
   "metadata": {},
   "outputs": [],
   "source": [
    "import numpy as np\n",
    "import pandas as pd"
   ]
  },
  {
   "cell_type": "code",
   "execution_count": null,
   "id": "4bb802ac",
   "metadata": {},
   "outputs": [],
   "source": [
    "#we can read in external data\n",
    "df = pd.read_csv('http://rcs.bu.edu/examples/python/data_analysis/flights.csv')"
   ]
  },
  {
   "cell_type": "code",
   "execution_count": null,
   "id": "3053aa3e",
   "metadata": {},
   "outputs": [],
   "source": [
    "df.head()"
   ]
  },
  {
   "cell_type": "code",
   "execution_count": 12,
   "id": "91dccbf8",
   "metadata": {},
   "outputs": [
    {
     "data": {
      "text/plain": [
       "(160754, 16)"
      ]
     },
     "execution_count": 12,
     "metadata": {},
     "output_type": "execute_result"
    }
   ],
   "source": [
    "df.size\n",
    "df.shape"
   ]
  },
  {
   "cell_type": "code",
   "execution_count": null,
   "id": "631deb58",
   "metadata": {},
   "outputs": [],
   "source": [
    "# carry out these mini-challenges until about 2:10\n",
    "# Show how many elements this data has"
   ]
  },
  {
   "cell_type": "code",
   "execution_count": 9,
   "id": "307e7901",
   "metadata": {},
   "outputs": [
    {
     "data": {
      "text/plain": [
       "Index(['year', 'month', 'day', 'dep_time', 'dep_delay', 'arr_time',\n",
       "       'arr_delay', 'carrier', 'tailnum', 'flight', 'origin', 'dest',\n",
       "       'air_time', 'distance', 'hour', 'minute'],\n",
       "      dtype='object')"
      ]
     },
     "execution_count": 9,
     "metadata": {},
     "output_type": "execute_result"
    }
   ],
   "source": [
    "# Show the column names \n",
    "df.columns"
   ]
  },
  {
   "cell_type": "code",
   "execution_count": 10,
   "id": "d2ee16a0",
   "metadata": {},
   "outputs": [
    {
     "data": {
      "text/plain": [
       "year           int64\n",
       "month          int64\n",
       "day            int64\n",
       "dep_time     float64\n",
       "dep_delay    float64\n",
       "arr_time     float64\n",
       "arr_delay    float64\n",
       "carrier       object\n",
       "tailnum       object\n",
       "flight         int64\n",
       "origin        object\n",
       "dest          object\n",
       "air_time     float64\n",
       "distance       int64\n",
       "hour         float64\n",
       "minute       float64\n",
       "dtype: object"
      ]
     },
     "execution_count": 10,
     "metadata": {},
     "output_type": "execute_result"
    }
   ],
   "source": [
    "# Show the data types for each column\n",
    "df.dtypes"
   ]
  },
  {
   "cell_type": "code",
   "execution_count": 18,
   "id": "125d91aa",
   "metadata": {},
   "outputs": [
    {
     "data": {
      "text/plain": [
       "year         160754\n",
       "month        160754\n",
       "day          160754\n",
       "dep_time     158418\n",
       "dep_delay    158418\n",
       "arr_time     158275\n",
       "arr_delay    157927\n",
       "flight       160754\n",
       "air_time     157927\n",
       "distance     160754\n",
       "hour         158418\n",
       "minute       158418\n",
       "dtype: int64"
      ]
     },
     "execution_count": 18,
     "metadata": {},
     "output_type": "execute_result"
    }
   ],
   "source": [
    "# Show the statistical summaries\n",
    "# for the numeric columns in the dataset ( df.describe() )\n",
    "df.describe()\n",
    "df.mean(numeric_only=True)\n",
    "df.max(numeric_only=True)\n",
    "df.min(numeric_only=True)\n",
    "df.count(numeric_only=True)"
   ]
  },
  {
   "cell_type": "markdown",
   "id": "5c5ac65a",
   "metadata": {},
   "source": [
    "### we can read excel, csv, json, html, xml ..."
   ]
  },
  {
   "cell_type": "code",
   "execution_count": 21,
   "id": "089e45e1",
   "metadata": {},
   "outputs": [],
   "source": [
    "posts = pd.read_json('https://jsonplaceholder.typicode.com/posts')"
   ]
  },
  {
   "cell_type": "code",
   "execution_count": 22,
   "id": "e392bb4b",
   "metadata": {},
   "outputs": [
    {
     "data": {
      "text/html": [
       "<div>\n",
       "<style scoped>\n",
       "    .dataframe tbody tr th:only-of-type {\n",
       "        vertical-align: middle;\n",
       "    }\n",
       "\n",
       "    .dataframe tbody tr th {\n",
       "        vertical-align: top;\n",
       "    }\n",
       "\n",
       "    .dataframe thead th {\n",
       "        text-align: right;\n",
       "    }\n",
       "</style>\n",
       "<table border=\"1\" class=\"dataframe\">\n",
       "  <thead>\n",
       "    <tr style=\"text-align: right;\">\n",
       "      <th></th>\n",
       "      <th>userId</th>\n",
       "      <th>id</th>\n",
       "      <th>title</th>\n",
       "      <th>body</th>\n",
       "    </tr>\n",
       "  </thead>\n",
       "  <tbody>\n",
       "    <tr>\n",
       "      <th>0</th>\n",
       "      <td>1</td>\n",
       "      <td>1</td>\n",
       "      <td>sunt aut facere repellat provident occaecati e...</td>\n",
       "      <td>quia et suscipit\\nsuscipit recusandae consequu...</td>\n",
       "    </tr>\n",
       "    <tr>\n",
       "      <th>1</th>\n",
       "      <td>1</td>\n",
       "      <td>2</td>\n",
       "      <td>qui est esse</td>\n",
       "      <td>est rerum tempore vitae\\nsequi sint nihil repr...</td>\n",
       "    </tr>\n",
       "    <tr>\n",
       "      <th>2</th>\n",
       "      <td>1</td>\n",
       "      <td>3</td>\n",
       "      <td>ea molestias quasi exercitationem repellat qui...</td>\n",
       "      <td>et iusto sed quo iure\\nvoluptatem occaecati om...</td>\n",
       "    </tr>\n",
       "    <tr>\n",
       "      <th>3</th>\n",
       "      <td>1</td>\n",
       "      <td>4</td>\n",
       "      <td>eum et est occaecati</td>\n",
       "      <td>ullam et saepe reiciendis voluptatem adipisci\\...</td>\n",
       "    </tr>\n",
       "    <tr>\n",
       "      <th>4</th>\n",
       "      <td>1</td>\n",
       "      <td>5</td>\n",
       "      <td>nesciunt quas odio</td>\n",
       "      <td>repudiandae veniam quaerat sunt sed\\nalias aut...</td>\n",
       "    </tr>\n",
       "    <tr>\n",
       "      <th>...</th>\n",
       "      <td>...</td>\n",
       "      <td>...</td>\n",
       "      <td>...</td>\n",
       "      <td>...</td>\n",
       "    </tr>\n",
       "    <tr>\n",
       "      <th>95</th>\n",
       "      <td>10</td>\n",
       "      <td>96</td>\n",
       "      <td>quaerat velit veniam amet cupiditate aut numqu...</td>\n",
       "      <td>in non odio excepturi sint eum\\nlabore volupta...</td>\n",
       "    </tr>\n",
       "    <tr>\n",
       "      <th>96</th>\n",
       "      <td>10</td>\n",
       "      <td>97</td>\n",
       "      <td>quas fugiat ut perspiciatis vero provident</td>\n",
       "      <td>eum non blanditiis soluta porro quibusdam volu...</td>\n",
       "    </tr>\n",
       "    <tr>\n",
       "      <th>97</th>\n",
       "      <td>10</td>\n",
       "      <td>98</td>\n",
       "      <td>laboriosam dolor voluptates</td>\n",
       "      <td>doloremque ex facilis sit sint culpa\\nsoluta a...</td>\n",
       "    </tr>\n",
       "    <tr>\n",
       "      <th>98</th>\n",
       "      <td>10</td>\n",
       "      <td>99</td>\n",
       "      <td>temporibus sit alias delectus eligendi possimu...</td>\n",
       "      <td>quo deleniti praesentium dicta non quod\\naut e...</td>\n",
       "    </tr>\n",
       "    <tr>\n",
       "      <th>99</th>\n",
       "      <td>10</td>\n",
       "      <td>100</td>\n",
       "      <td>at nam consequatur ea labore ea harum</td>\n",
       "      <td>cupiditate quo est a modi nesciunt soluta\\nips...</td>\n",
       "    </tr>\n",
       "  </tbody>\n",
       "</table>\n",
       "<p>100 rows × 4 columns</p>\n",
       "</div>"
      ],
      "text/plain": [
       "    userId   id                                              title  \\\n",
       "0        1    1  sunt aut facere repellat provident occaecati e...   \n",
       "1        1    2                                       qui est esse   \n",
       "2        1    3  ea molestias quasi exercitationem repellat qui...   \n",
       "3        1    4                               eum et est occaecati   \n",
       "4        1    5                                 nesciunt quas odio   \n",
       "..     ...  ...                                                ...   \n",
       "95      10   96  quaerat velit veniam amet cupiditate aut numqu...   \n",
       "96      10   97         quas fugiat ut perspiciatis vero provident   \n",
       "97      10   98                        laboriosam dolor voluptates   \n",
       "98      10   99  temporibus sit alias delectus eligendi possimu...   \n",
       "99      10  100              at nam consequatur ea labore ea harum   \n",
       "\n",
       "                                                 body  \n",
       "0   quia et suscipit\\nsuscipit recusandae consequu...  \n",
       "1   est rerum tempore vitae\\nsequi sint nihil repr...  \n",
       "2   et iusto sed quo iure\\nvoluptatem occaecati om...  \n",
       "3   ullam et saepe reiciendis voluptatem adipisci\\...  \n",
       "4   repudiandae veniam quaerat sunt sed\\nalias aut...  \n",
       "..                                                ...  \n",
       "95  in non odio excepturi sint eum\\nlabore volupta...  \n",
       "96  eum non blanditiis soluta porro quibusdam volu...  \n",
       "97  doloremque ex facilis sit sint culpa\\nsoluta a...  \n",
       "98  quo deleniti praesentium dicta non quod\\naut e...  \n",
       "99  cupiditate quo est a modi nesciunt soluta\\nips...  \n",
       "\n",
       "[100 rows x 4 columns]"
      ]
     },
     "execution_count": 22,
     "metadata": {},
     "output_type": "execute_result"
    }
   ],
   "source": [
    "posts"
   ]
  }
 ],
 "metadata": {
  "kernelspec": {
   "display_name": "Python 3 (ipykernel)",
   "language": "python",
   "name": "python3"
  },
  "language_info": {
   "codemirror_mode": {
    "name": "ipython",
    "version": 3
   },
   "file_extension": ".py",
   "mimetype": "text/x-python",
   "name": "python",
   "nbconvert_exporter": "python",
   "pygments_lexer": "ipython3",
   "version": "3.9.12"
  }
 },
 "nbformat": 4,
 "nbformat_minor": 5
}
