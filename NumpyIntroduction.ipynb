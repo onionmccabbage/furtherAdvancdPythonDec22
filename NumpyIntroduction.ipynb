{
 "cells": [
  {
   "cell_type": "markdown",
   "id": "6c02cdc3",
   "metadata": {},
   "source": [
    "### Numpy Basics"
   ]
  },
  {
   "cell_type": "code",
   "execution_count": 3,
   "id": "396b50f8",
   "metadata": {},
   "outputs": [],
   "source": [
    "# we need to import the Numpy library\n",
    "import numpy as np # by convention we call it np"
   ]
  },
  {
   "cell_type": "code",
   "execution_count": 4,
   "id": "82e19bf4",
   "metadata": {},
   "outputs": [
    {
     "data": {
      "text/plain": [
       "array([3, 4, 5, 6, 7, 8, 9])"
      ]
     },
     "execution_count": 4,
     "metadata": {},
     "output_type": "execute_result"
    }
   ],
   "source": [
    "# Numpy has its own data structures\n",
    "my_arr = np.arange(3, 10) # an array-range can only contain the same data type\n",
    "my_arr"
   ]
  },
  {
   "cell_type": "code",
   "execution_count": 21,
   "id": "662ed1f9",
   "metadata": {},
   "outputs": [
    {
     "name": "stdout",
     "output_type": "stream",
     "text": [
      "CPU times: total: 46.9 ms\n",
      "Wall time: 73.9 ms\n",
      "CPU times: total: 125 ms\n",
      "Wall time: 151 ms\n"
     ]
    }
   ],
   "source": [
    "# arange is more performant when carrying out operations\n",
    "my_l = list(my_arr)\n",
    "# %time an operation on both the arange and the list\n",
    "%time for i in range(100000): my_arr2 = my_arr*2 # multiply each value by 2\n",
    "%time for i in range(100000): my_l2   = [x*2 for x in my_l]"
   ]
  },
  {
   "cell_type": "markdown",
   "id": "2f855f96",
   "metadata": {},
   "source": [
    "### n-dimensional arrays"
   ]
  },
  {
   "cell_type": "code",
   "execution_count": 34,
   "id": "b6a0ca7d",
   "metadata": {},
   "outputs": [
    {
     "data": {
      "text/plain": [
       "dtype('float64')"
      ]
     },
     "execution_count": 34,
     "metadata": {},
     "output_type": "execute_result"
    }
   ],
   "source": [
    "# we can create a two-dimensional array\n",
    "data = np.random.randn(2,3)\n",
    "data.shape\n",
    "data.dtype # numpy adds new data types: float64, int32 etc."
   ]
  },
  {
   "cell_type": "code",
   "execution_count": 35,
   "id": "e754daa7",
   "metadata": {},
   "outputs": [
    {
     "data": {
      "text/plain": [
       "dtype('int32')"
      ]
     },
     "execution_count": 35,
     "metadata": {},
     "output_type": "execute_result"
    }
   ],
   "source": [
    "data1 = [6,7,5,3,1]\n",
    "arr1 = np.array(data1)\n",
    "arr1.dtype"
   ]
  },
  {
   "cell_type": "code",
   "execution_count": 51,
   "id": "90d0f154",
   "metadata": {},
   "outputs": [
    {
     "data": {
      "text/plain": [
       "array([[0., 0., 0.],\n",
       "       [0., 0., 0.],\n",
       "       [0., 0., 0.],\n",
       "       [0., 0., 0.],\n",
       "       [0., 0., 0.],\n",
       "       [0., 0., 0.]])"
      ]
     },
     "execution_count": 51,
     "metadata": {},
     "output_type": "execute_result"
    }
   ],
   "source": [
    "# we can populate an array automatically\n",
    "z = np.zeros( (3,6) ) # these are floating-pointzero values\n",
    "z\n",
    "e = np.empty( (6,3) )\n",
    "e # it is not empty - it points to 'empty' memory locations"
   ]
  },
  {
   "cell_type": "code",
   "execution_count": 53,
   "id": "f4fcfd4c",
   "metadata": {},
   "outputs": [
    {
     "data": {
      "text/plain": [
       "array([b'6', b'7', b'5', b'3', b'1'], dtype='|S11')"
      ]
     },
     "execution_count": 53,
     "metadata": {},
     "output_type": "execute_result"
    }
   ],
   "source": [
    "# we can convert between data types\n",
    "arr3 = arr1.astype(np.string_) # make all the values into string values\n",
    "arr3"
   ]
  },
  {
   "cell_type": "code",
   "execution_count": 60,
   "id": "a9c84e92",
   "metadata": {},
   "outputs": [
    {
     "data": {
      "text/plain": [
       "array([[[0., 0., 0.],\n",
       "        [0., 0., 0.],\n",
       "        [0., 0., 0.]],\n",
       "\n",
       "       [[0., 0., 0.],\n",
       "        [0., 0., 0.],\n",
       "        [0., 0., 0.]],\n",
       "\n",
       "       [[0., 0., 0.],\n",
       "        [0., 0., 0.],\n",
       "        [0., 0., 0.]]])"
      ]
     },
     "execution_count": 60,
     "metadata": {},
     "output_type": "execute_result"
    }
   ],
   "source": [
    "z = np.zeros( (3,3,3) ) # a three-by-three-by-three\n",
    "z"
   ]
  },
  {
   "cell_type": "code",
   "execution_count": 65,
   "id": "89015386",
   "metadata": {},
   "outputs": [
    {
     "data": {
      "text/plain": [
       "array([ True,  True,  True, False, False])"
      ]
     },
     "execution_count": 65,
     "metadata": {},
     "output_type": "execute_result"
    }
   ],
   "source": [
    "# we can carry out maths on arrays\n",
    "arr1**2\n",
    "# we can carry out logic\n",
    "arr1>3"
   ]
  },
  {
   "cell_type": "code",
   "execution_count": 71,
   "id": "9447fd13",
   "metadata": {},
   "outputs": [
    {
     "data": {
      "text/plain": [
       "array([7, 5, 3])"
      ]
     },
     "execution_count": 71,
     "metadata": {},
     "output_type": "execute_result"
    }
   ],
   "source": [
    "# indexing and slicing is the same as all other Python ordinal collections\n",
    "# [start:stop-before:step]\n",
    "arr1[1:4] # 7, 5, 3"
   ]
  },
  {
   "cell_type": "code",
   "execution_count": 73,
   "id": "2dbc065c",
   "metadata": {},
   "outputs": [
    {
     "data": {
      "text/plain": [
       "array([[ 1.08173891,  2.2793972 ],\n",
       "       [-0.40378789,  0.49849798],\n",
       "       [-0.68135135, -0.63092689]])"
      ]
     },
     "execution_count": 73,
     "metadata": {},
     "output_type": "execute_result"
    }
   ],
   "source": [
    "# we can transpose an array\n",
    "data.T # the rows and columns are switched"
   ]
  }
 ],
 "metadata": {
  "kernelspec": {
   "display_name": "Python 3 (ipykernel)",
   "language": "python",
   "name": "python3"
  },
  "language_info": {
   "codemirror_mode": {
    "name": "ipython",
    "version": 3
   },
   "file_extension": ".py",
   "mimetype": "text/x-python",
   "name": "python",
   "nbconvert_exporter": "python",
   "pygments_lexer": "ipython3",
   "version": "3.9.12"
  }
 },
 "nbformat": 4,
 "nbformat_minor": 5
}
