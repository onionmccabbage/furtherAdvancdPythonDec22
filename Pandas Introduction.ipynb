{
 "cells": [
  {
   "cell_type": "markdown",
   "id": "0731dfaf",
   "metadata": {},
   "source": [
    "### Introducing Pandas"
   ]
  },
  {
   "cell_type": "code",
   "execution_count": 1,
   "id": "73ad6f43",
   "metadata": {},
   "outputs": [],
   "source": [
    "# we need to import the libraries\n",
    "import numpy as np\n",
    "import pandas as pd"
   ]
  },
  {
   "cell_type": "code",
   "execution_count": 8,
   "id": "d3082b1a",
   "metadata": {},
   "outputs": [
    {
     "data": {
      "text/plain": [
       "0     4\n",
       "1     7\n",
       "2    -5\n",
       "3     3\n",
       "4    99\n",
       "dtype: int64"
      ]
     },
     "execution_count": 8,
     "metadata": {},
     "output_type": "execute_result"
    }
   ],
   "source": [
    "# Pandas has a 'series' data type\n",
    "o = pd.Series([4, 7, -5, 3, 99]) # all the same data type\n",
    "o # a Series will have an index 0, 1, 2 etc.\n",
    "o.values # the values of a Series are a numpy arange\n",
    "o.index # start, stop-before, step\n",
    "o # we have a default index"
   ]
  },
  {
   "cell_type": "code",
   "execution_count": 14,
   "id": "c56f810c",
   "metadata": {},
   "outputs": [
    {
     "data": {
      "text/plain": [
       "d     4\n",
       "b    77\n",
       "a    -5\n",
       "c     3\n",
       "e    99\n",
       "dtype: int64"
      ]
     },
     "execution_count": 14,
     "metadata": {},
     "output_type": "execute_result"
    }
   ],
   "source": [
    "values_list = [4, 7, -5, 3] # just Python lists\n",
    "index_list  = ['d', 'b', 'a', 'c']\n",
    "o2 = pd.Series(values_list, index=index_list)\n",
    "o2 # a Series can use ANY index (index values must all be the same data type)\n",
    "o2['a'] # -5 is at index-position 'a'\n",
    "o2['e'] = 99 # insert new members\n",
    "o2['b'] = 77 # mutate existing members\n",
    "o2"
   ]
  },
  {
   "cell_type": "code",
   "execution_count": 17,
   "id": "7446184f",
   "metadata": {},
   "outputs": [
    {
     "data": {
      "text/plain": [
       "e    99\n",
       "c     3\n",
       "a    -5\n",
       "dtype: int64"
      ]
     },
     "execution_count": 17,
     "metadata": {},
     "output_type": "execute_result"
    }
   ],
   "source": [
    "# we can use slicing with Series\n",
    "o2['d':'c'] # careful - this is [start:stop:step] (not stop-before)\n",
    "slice_list = ['e', 'c', 'a'] # we can have a non-consecutive slice\n",
    "o2[slice_list]"
   ]
  },
  {
   "cell_type": "code",
   "execution_count": 21,
   "id": "800326b7",
   "metadata": {},
   "outputs": [
    {
     "data": {
      "text/plain": [
       "d     4\n",
       "b    77\n",
       "a    -5\n",
       "c     3\n",
       "e    99\n",
       "dtype: int64"
      ]
     },
     "execution_count": 21,
     "metadata": {},
     "output_type": "execute_result"
    }
   ],
   "source": [
    "# as before, we can do maths and logic\n",
    "o3 = o2[ o2>6 ] # to persist the data, store it in a fresh structure\n",
    "o2**3\n",
    "o2 # the original Series remains unchanged"
   ]
  },
  {
   "cell_type": "markdown",
   "id": "8f30b96b",
   "metadata": {},
   "source": [
    "### Using Series for Data Sets"
   ]
  },
  {
   "cell_type": "code",
   "execution_count": 27,
   "id": "7cd99290",
   "metadata": {},
   "outputs": [
    {
     "data": {
      "text/plain": [
       "Cork       35000.0\n",
       "Dublin     71000.0\n",
       "Galway     16000.0\n",
       "Athlone     5000.0\n",
       "Shannon        NaN\n",
       "dtype: float64"
      ]
     },
     "execution_count": 27,
     "metadata": {},
     "output_type": "execute_result"
    }
   ],
   "source": [
    "# we can make a dict of values\n",
    "sdata = {'Cork':35000, 'Dublin':71000, 'Galway':16000, 'Athlone':5000}\n",
    "idata = ['Cork', 'Dublin', 'Galway', 'Athlone', 'Shannon']\n",
    "p = pd.Series(sdata, index=idata) # same as before, but we injected an index\n",
    "p # the missing value is NaN which is a numeric data type"
   ]
  },
  {
   "cell_type": "markdown",
   "id": "40fef287",
   "metadata": {},
   "source": [
    "### Pandas Data Frame"
   ]
  },
  {
   "cell_type": "code",
   "execution_count": 34,
   "id": "e162659d",
   "metadata": {
    "scrolled": true
   },
   "outputs": [
    {
     "data": {
      "text/html": [
       "<div>\n",
       "<style scoped>\n",
       "    .dataframe tbody tr th:only-of-type {\n",
       "        vertical-align: middle;\n",
       "    }\n",
       "\n",
       "    .dataframe tbody tr th {\n",
       "        vertical-align: top;\n",
       "    }\n",
       "\n",
       "    .dataframe thead th {\n",
       "        text-align: right;\n",
       "    }\n",
       "</style>\n",
       "<table border=\"1\" class=\"dataframe\">\n",
       "  <thead>\n",
       "    <tr style=\"text-align: right;\">\n",
       "      <th></th>\n",
       "      <th>year</th>\n",
       "      <th>pop</th>\n",
       "    </tr>\n",
       "  </thead>\n",
       "  <tbody>\n",
       "    <tr>\n",
       "      <th>count</th>\n",
       "      <td>6.000000</td>\n",
       "      <td>6.000000</td>\n",
       "    </tr>\n",
       "    <tr>\n",
       "      <th>mean</th>\n",
       "      <td>2019.500000</td>\n",
       "      <td>2.550000</td>\n",
       "    </tr>\n",
       "    <tr>\n",
       "      <th>std</th>\n",
       "      <td>1.870829</td>\n",
       "      <td>0.836062</td>\n",
       "    </tr>\n",
       "    <tr>\n",
       "      <th>min</th>\n",
       "      <td>2017.000000</td>\n",
       "      <td>1.500000</td>\n",
       "    </tr>\n",
       "    <tr>\n",
       "      <th>25%</th>\n",
       "      <td>2018.250000</td>\n",
       "      <td>1.875000</td>\n",
       "    </tr>\n",
       "    <tr>\n",
       "      <th>50%</th>\n",
       "      <td>2019.500000</td>\n",
       "      <td>2.650000</td>\n",
       "    </tr>\n",
       "    <tr>\n",
       "      <th>75%</th>\n",
       "      <td>2020.750000</td>\n",
       "      <td>3.125000</td>\n",
       "    </tr>\n",
       "    <tr>\n",
       "      <th>max</th>\n",
       "      <td>2022.000000</td>\n",
       "      <td>3.600000</td>\n",
       "    </tr>\n",
       "  </tbody>\n",
       "</table>\n",
       "</div>"
      ],
      "text/plain": [
       "              year       pop\n",
       "count     6.000000  6.000000\n",
       "mean   2019.500000  2.550000\n",
       "std       1.870829  0.836062\n",
       "min    2017.000000  1.500000\n",
       "25%    2018.250000  1.875000\n",
       "50%    2019.500000  2.650000\n",
       "75%    2020.750000  3.125000\n",
       "max    2022.000000  3.600000"
      ]
     },
     "execution_count": 34,
     "metadata": {},
     "output_type": "execute_result"
    }
   ],
   "source": [
    "# the Data Frame is a collection of Pandas Series\n",
    "# they all share the same index\n",
    "# each series can have a column header\n",
    "# looks rather like a spreaadsheet\n",
    "town_list = ['Cork', 'Dublin', 'Galway', 'Athlone', 'Shannon', 'Roscarberry']\n",
    "year_list = [2017, 2018, 2019, 2020, 2021, 2022]\n",
    "pop_list  = [1.5, 1.7, 3.6, 2.4, 2.9, 3.2]\n",
    "data = {'town':town_list, 'year':year_list, 'pop': pop_list }\n",
    "df = pd.DataFrame(data) # each column will contsain all the same data type\n",
    "# (cana have differnet data types across columns)\n",
    "df # the dataframe will have a default index 0, 1, 2 ...\n",
    "df.describe() # we get an overview of the data statistics"
   ]
  },
  {
   "cell_type": "code",
   "execution_count": 39,
   "id": "db9f40a4",
   "metadata": {},
   "outputs": [
    {
     "data": {
      "text/html": [
       "<div>\n",
       "<style scoped>\n",
       "    .dataframe tbody tr th:only-of-type {\n",
       "        vertical-align: middle;\n",
       "    }\n",
       "\n",
       "    .dataframe tbody tr th {\n",
       "        vertical-align: top;\n",
       "    }\n",
       "\n",
       "    .dataframe thead th {\n",
       "        text-align: right;\n",
       "    }\n",
       "</style>\n",
       "<table border=\"1\" class=\"dataframe\">\n",
       "  <thead>\n",
       "    <tr style=\"text-align: right;\">\n",
       "      <th></th>\n",
       "      <th>town</th>\n",
       "      <th>year</th>\n",
       "      <th>pop</th>\n",
       "    </tr>\n",
       "  </thead>\n",
       "  <tbody>\n",
       "    <tr>\n",
       "      <th>4</th>\n",
       "      <td>Shannon</td>\n",
       "      <td>2021</td>\n",
       "      <td>2.9</td>\n",
       "    </tr>\n",
       "    <tr>\n",
       "      <th>5</th>\n",
       "      <td>Roscarberry</td>\n",
       "      <td>2022</td>\n",
       "      <td>3.2</td>\n",
       "    </tr>\n",
       "  </tbody>\n",
       "</table>\n",
       "</div>"
      ],
      "text/plain": [
       "          town  year  pop\n",
       "4      Shannon  2021  2.9\n",
       "5  Roscarberry  2022  3.2"
      ]
     },
     "execution_count": 39,
     "metadata": {},
     "output_type": "execute_result"
    }
   ],
   "source": [
    "df.head(3)\n",
    "df.tail(2)"
   ]
  },
  {
   "cell_type": "code",
   "execution_count": 50,
   "id": "72b71659",
   "metadata": {},
   "outputs": [
    {
     "data": {
      "text/html": [
       "<div>\n",
       "<style scoped>\n",
       "    .dataframe tbody tr th:only-of-type {\n",
       "        vertical-align: middle;\n",
       "    }\n",
       "\n",
       "    .dataframe tbody tr th {\n",
       "        vertical-align: top;\n",
       "    }\n",
       "\n",
       "    .dataframe thead th {\n",
       "        text-align: right;\n",
       "    }\n",
       "</style>\n",
       "<table border=\"1\" class=\"dataframe\">\n",
       "  <thead>\n",
       "    <tr style=\"text-align: right;\">\n",
       "      <th></th>\n",
       "      <th>pop</th>\n",
       "      <th>year</th>\n",
       "    </tr>\n",
       "  </thead>\n",
       "  <tbody>\n",
       "    <tr>\n",
       "      <th>one</th>\n",
       "      <td>1.5</td>\n",
       "      <td>2017</td>\n",
       "    </tr>\n",
       "    <tr>\n",
       "      <th>two</th>\n",
       "      <td>1.7</td>\n",
       "      <td>2018</td>\n",
       "    </tr>\n",
       "    <tr>\n",
       "      <th>three</th>\n",
       "      <td>3.6</td>\n",
       "      <td>2019</td>\n",
       "    </tr>\n",
       "    <tr>\n",
       "      <th>four</th>\n",
       "      <td>2.4</td>\n",
       "      <td>2020</td>\n",
       "    </tr>\n",
       "    <tr>\n",
       "      <th>five</th>\n",
       "      <td>2.9</td>\n",
       "      <td>2021</td>\n",
       "    </tr>\n",
       "    <tr>\n",
       "      <th>six</th>\n",
       "      <td>3.2</td>\n",
       "      <td>2022</td>\n",
       "    </tr>\n",
       "  </tbody>\n",
       "</table>\n",
       "</div>"
      ],
      "text/plain": [
       "       pop  year\n",
       "one    1.5  2017\n",
       "two    1.7  2018\n",
       "three  3.6  2019\n",
       "four   2.4  2020\n",
       "five   2.9  2021\n",
       "six    3.2  2022"
      ]
     },
     "execution_count": 50,
     "metadata": {},
     "output_type": "execute_result"
    }
   ],
   "source": [
    "# we can specify the order of our data columns, and which columns we need\n",
    "# we can also specify our index values\n",
    "index_l = ['one', 'two', 'three', 'four', 'five', 'six']\n",
    "df2 = pd.DataFrame(data, columns=['pop', 'year'], index=index_l)\n",
    "df2"
   ]
  },
  {
   "cell_type": "code",
   "execution_count": 54,
   "id": "605f0017",
   "metadata": {},
   "outputs": [
    {
     "data": {
      "text/html": [
       "<div>\n",
       "<style scoped>\n",
       "    .dataframe tbody tr th:only-of-type {\n",
       "        vertical-align: middle;\n",
       "    }\n",
       "\n",
       "    .dataframe tbody tr th {\n",
       "        vertical-align: top;\n",
       "    }\n",
       "\n",
       "    .dataframe thead th {\n",
       "        text-align: right;\n",
       "    }\n",
       "</style>\n",
       "<table border=\"1\" class=\"dataframe\">\n",
       "  <thead>\n",
       "    <tr style=\"text-align: right;\">\n",
       "      <th></th>\n",
       "      <th>pop</th>\n",
       "      <th>year</th>\n",
       "    </tr>\n",
       "  </thead>\n",
       "  <tbody>\n",
       "    <tr>\n",
       "      <th>Cork</th>\n",
       "      <td>1.5</td>\n",
       "      <td>2017</td>\n",
       "    </tr>\n",
       "    <tr>\n",
       "      <th>Dublin</th>\n",
       "      <td>1.7</td>\n",
       "      <td>2018</td>\n",
       "    </tr>\n",
       "    <tr>\n",
       "      <th>Galway</th>\n",
       "      <td>3.6</td>\n",
       "      <td>2019</td>\n",
       "    </tr>\n",
       "    <tr>\n",
       "      <th>Athlone</th>\n",
       "      <td>2.4</td>\n",
       "      <td>2020</td>\n",
       "    </tr>\n",
       "    <tr>\n",
       "      <th>Shannon</th>\n",
       "      <td>2.9</td>\n",
       "      <td>2021</td>\n",
       "    </tr>\n",
       "    <tr>\n",
       "      <th>Roscarberry</th>\n",
       "      <td>3.2</td>\n",
       "      <td>2022</td>\n",
       "    </tr>\n",
       "  </tbody>\n",
       "</table>\n",
       "</div>"
      ],
      "text/plain": [
       "             pop  year\n",
       "Cork         1.5  2017\n",
       "Dublin       1.7  2018\n",
       "Galway       3.6  2019\n",
       "Athlone      2.4  2020\n",
       "Shannon      2.9  2021\n",
       "Roscarberry  3.2  2022"
      ]
     },
     "execution_count": 54,
     "metadata": {},
     "output_type": "execute_result"
    }
   ],
   "source": [
    "# we can also use data from our other structures to specify the index\n",
    "df3 = pd.DataFrame(data, columns=['pop', 'year'], index=town_list)\n",
    "df3['pop'] # remember each column is a Series\n",
    "df3"
   ]
  },
  {
   "cell_type": "markdown",
   "id": "d962f2c2",
   "metadata": {},
   "source": [
    "### Accessing rows and columns with loc, iloc and axis"
   ]
  },
  {
   "cell_type": "code",
   "execution_count": 56,
   "id": "397a4a62",
   "metadata": {},
   "outputs": [
    {
     "data": {
      "text/plain": [
       "pop        2.4\n",
       "year    2020.0\n",
       "Name: Athlone, dtype: float64"
      ]
     },
     "execution_count": 56,
     "metadata": {},
     "output_type": "execute_result"
    }
   ],
   "source": [
    "# we use 'loc' for location of index\n",
    "df3.loc['Athlone'] # here we access the row at index 'Athlone'"
   ]
  },
  {
   "cell_type": "code",
   "execution_count": 57,
   "id": "61604981",
   "metadata": {},
   "outputs": [
    {
     "data": {
      "text/plain": [
       "pop        2.4\n",
       "year    2020.0\n",
       "Name: Athlone, dtype: float64"
      ]
     },
     "execution_count": 57,
     "metadata": {},
     "output_type": "execute_result"
    }
   ],
   "source": [
    "# we can use 'iloc' for index location by ordinal position\n",
    "df3.iloc[3] # index row ordinal number 3 (counts 0, 1, 2, ...)"
   ]
  },
  {
   "cell_type": "code",
   "execution_count": 65,
   "id": "75a3a113",
   "metadata": {},
   "outputs": [
    {
     "data": {
      "text/plain": [
       "town    Galway\n",
       "year      2019\n",
       "pop        3.6\n",
       "Name: 6, dtype: object"
      ]
     },
     "execution_count": 65,
     "metadata": {},
     "output_type": "execute_result"
    }
   ],
   "source": [
    "# can we use numbers for index values\n",
    "num_list = [4,5,6,3,2,1]\n",
    "df4 = pd.DataFrame(data, index=num_list)\n",
    "df4\n",
    "df4.loc[2] # Shannon\n",
    "df4.iloc[2] # Galway\n",
    "# probably not a good idea to mix non-ordinal numeric indexes!!!!"
   ]
  },
  {
   "cell_type": "code",
   "execution_count": 80,
   "id": "bacf9c3d",
   "metadata": {},
   "outputs": [
    {
     "data": {
      "text/html": [
       "<div>\n",
       "<style scoped>\n",
       "    .dataframe tbody tr th:only-of-type {\n",
       "        vertical-align: middle;\n",
       "    }\n",
       "\n",
       "    .dataframe tbody tr th {\n",
       "        vertical-align: top;\n",
       "    }\n",
       "\n",
       "    .dataframe thead th {\n",
       "        text-align: right;\n",
       "    }\n",
       "</style>\n",
       "<table border=\"1\" class=\"dataframe\">\n",
       "  <thead>\n",
       "    <tr style=\"text-align: right;\">\n",
       "      <th></th>\n",
       "      <th>pop</th>\n",
       "      <th>year</th>\n",
       "      <th>Debt</th>\n",
       "    </tr>\n",
       "  </thead>\n",
       "  <tbody>\n",
       "    <tr>\n",
       "      <th>one</th>\n",
       "      <td>1.5</td>\n",
       "      <td>2017</td>\n",
       "      <td>-1.2</td>\n",
       "    </tr>\n",
       "    <tr>\n",
       "      <th>two</th>\n",
       "      <td>1.7</td>\n",
       "      <td>2018</td>\n",
       "      <td>NaN</td>\n",
       "    </tr>\n",
       "    <tr>\n",
       "      <th>three</th>\n",
       "      <td>3.6</td>\n",
       "      <td>2019</td>\n",
       "      <td>1.5</td>\n",
       "    </tr>\n",
       "    <tr>\n",
       "      <th>four</th>\n",
       "      <td>2.4</td>\n",
       "      <td>2020</td>\n",
       "      <td>NaN</td>\n",
       "    </tr>\n",
       "    <tr>\n",
       "      <th>five</th>\n",
       "      <td>2.9</td>\n",
       "      <td>2021</td>\n",
       "      <td>-2.7</td>\n",
       "    </tr>\n",
       "    <tr>\n",
       "      <th>six</th>\n",
       "      <td>3.2</td>\n",
       "      <td>2022</td>\n",
       "      <td>NaN</td>\n",
       "    </tr>\n",
       "  </tbody>\n",
       "</table>\n",
       "</div>"
      ],
      "text/plain": [
       "       pop  year  Debt\n",
       "one    1.5  2017  -1.2\n",
       "two    1.7  2018   NaN\n",
       "three  3.6  2019   1.5\n",
       "four   2.4  2020   NaN\n",
       "five   2.9  2021  -2.7\n",
       "six    3.2  2022   NaN"
      ]
     },
     "execution_count": 80,
     "metadata": {},
     "output_type": "execute_result"
    }
   ],
   "source": [
    "# we can add additional data to an existing DataFrame\n",
    "df2['Debt'] = np.arange(6.)\n",
    "new_values = [-1.2, 1.5, -2.7]\n",
    "# overwrite some of the values\n",
    "df2['Debt'] = pd.Series(new_values, index=['one', 'three', 'five']) # we get NaN for missing values\n",
    "df2"
   ]
  },
  {
   "cell_type": "code",
   "execution_count": 84,
   "id": "719d55e8",
   "metadata": {},
   "outputs": [
    {
     "data": {
      "text/html": [
       "<div>\n",
       "<style scoped>\n",
       "    .dataframe tbody tr th:only-of-type {\n",
       "        vertical-align: middle;\n",
       "    }\n",
       "\n",
       "    .dataframe tbody tr th {\n",
       "        vertical-align: top;\n",
       "    }\n",
       "\n",
       "    .dataframe thead th {\n",
       "        text-align: right;\n",
       "    }\n",
       "</style>\n",
       "<table border=\"1\" class=\"dataframe\">\n",
       "  <thead>\n",
       "    <tr style=\"text-align: right;\">\n",
       "      <th></th>\n",
       "      <th>one</th>\n",
       "      <th>two</th>\n",
       "      <th>three</th>\n",
       "      <th>four</th>\n",
       "      <th>five</th>\n",
       "      <th>six</th>\n",
       "    </tr>\n",
       "  </thead>\n",
       "  <tbody>\n",
       "    <tr>\n",
       "      <th>pop</th>\n",
       "      <td>1.5</td>\n",
       "      <td>1.7</td>\n",
       "      <td>3.6</td>\n",
       "      <td>2.4</td>\n",
       "      <td>2.9</td>\n",
       "      <td>3.2</td>\n",
       "    </tr>\n",
       "    <tr>\n",
       "      <th>year</th>\n",
       "      <td>2017.0</td>\n",
       "      <td>2018.0</td>\n",
       "      <td>2019.0</td>\n",
       "      <td>2020.0</td>\n",
       "      <td>2021.0</td>\n",
       "      <td>2022.0</td>\n",
       "    </tr>\n",
       "    <tr>\n",
       "      <th>Debt</th>\n",
       "      <td>-1.2</td>\n",
       "      <td>NaN</td>\n",
       "      <td>1.5</td>\n",
       "      <td>NaN</td>\n",
       "      <td>-2.7</td>\n",
       "      <td>NaN</td>\n",
       "    </tr>\n",
       "  </tbody>\n",
       "</table>\n",
       "</div>"
      ],
      "text/plain": [
       "         one     two   three    four    five     six\n",
       "pop      1.5     1.7     3.6     2.4     2.9     3.2\n",
       "year  2017.0  2018.0  2019.0  2020.0  2021.0  2022.0\n",
       "Debt    -1.2     NaN     1.5     NaN    -2.7     NaN"
      ]
     },
     "execution_count": 84,
     "metadata": {},
     "output_type": "execute_result"
    }
   ],
   "source": [
    "# we can transpose DataFrames\n",
    "df2.T\n",
    "# df2 # remember - changes may not persist"
   ]
  },
  {
   "cell_type": "markdown",
   "id": "5502f1a0",
   "metadata": {},
   "source": [
    "### Indexing and Filtering DataFrames"
   ]
  },
  {
   "cell_type": "code",
   "execution_count": 97,
   "id": "10c588ed",
   "metadata": {},
   "outputs": [
    {
     "data": {
      "text/html": [
       "<div>\n",
       "<style scoped>\n",
       "    .dataframe tbody tr th:only-of-type {\n",
       "        vertical-align: middle;\n",
       "    }\n",
       "\n",
       "    .dataframe tbody tr th {\n",
       "        vertical-align: top;\n",
       "    }\n",
       "\n",
       "    .dataframe thead th {\n",
       "        text-align: right;\n",
       "    }\n",
       "</style>\n",
       "<table border=\"1\" class=\"dataframe\">\n",
       "  <thead>\n",
       "    <tr style=\"text-align: right;\">\n",
       "      <th></th>\n",
       "      <th>one</th>\n",
       "      <th>two</th>\n",
       "      <th>three</th>\n",
       "      <th>four</th>\n",
       "    </tr>\n",
       "  </thead>\n",
       "  <tbody>\n",
       "    <tr>\n",
       "      <th>Waterford</th>\n",
       "      <td>0</td>\n",
       "      <td>1</td>\n",
       "      <td>2</td>\n",
       "      <td>3</td>\n",
       "    </tr>\n",
       "    <tr>\n",
       "      <th>Clonakilty</th>\n",
       "      <td>4</td>\n",
       "      <td>5</td>\n",
       "      <td>6</td>\n",
       "      <td>7</td>\n",
       "    </tr>\n",
       "    <tr>\n",
       "      <th>Athenry</th>\n",
       "      <td>0</td>\n",
       "      <td>0</td>\n",
       "      <td>0</td>\n",
       "      <td>0</td>\n",
       "    </tr>\n",
       "    <tr>\n",
       "      <th>Meath</th>\n",
       "      <td>0</td>\n",
       "      <td>0</td>\n",
       "      <td>0</td>\n",
       "      <td>0</td>\n",
       "    </tr>\n",
       "  </tbody>\n",
       "</table>\n",
       "</div>"
      ],
      "text/plain": [
       "            one  two  three  four\n",
       "Waterford     0    1      2     3\n",
       "Clonakilty    4    5      6     7\n",
       "Athenry       0    0      0     0\n",
       "Meath         0    0      0     0"
      ]
     },
     "execution_count": 97,
     "metadata": {},
     "output_type": "execute_result"
    }
   ],
   "source": [
    "i = ['Waterford', 'Clonakilty', 'Athenry', 'Meath']\n",
    "c = ['one', 'two', 'three', 'four']\n",
    "df5 = pd.DataFrame(np.arange(16).reshape(4,4), index=i, columns=c)\n",
    "df5\n",
    "# we can spot outlying data members\n",
    "df5[ df5['three'] > 9 ] = 0 # set all column-three values greater than nine to zero\n",
    "df5 # NB teh whole row gets set to zero"
   ]
  },
  {
   "cell_type": "code",
   "execution_count": null,
   "id": "ec2ac490",
   "metadata": {},
   "outputs": [],
   "source": []
  }
 ],
 "metadata": {
  "kernelspec": {
   "display_name": "Python 3 (ipykernel)",
   "language": "python",
   "name": "python3"
  },
  "language_info": {
   "codemirror_mode": {
    "name": "ipython",
    "version": 3
   },
   "file_extension": ".py",
   "mimetype": "text/x-python",
   "name": "python",
   "nbconvert_exporter": "python",
   "pygments_lexer": "ipython3",
   "version": "3.9.12"
  }
 },
 "nbformat": 4,
 "nbformat_minor": 5
}
